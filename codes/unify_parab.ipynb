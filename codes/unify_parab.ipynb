{
 "cells": [
  {
   "cell_type": "code",
   "execution_count": 1,
   "metadata": {},
   "outputs": [
    {
     "name": "stdout",
     "output_type": "stream",
     "text": [
      "[[3.]] [[-37.]\n",
      " [-39.]] 17.0\n"
     ]
    }
   ],
   "source": [
    "#Code by GVV Sharma\n",
    "#July 25, 2021\n",
    "#released under GNU GPL\n",
    "#Drawing a triangle given 3 sides\n",
    "\n",
    "\n",
    "import sys                                          #for path to external scripts\n",
    "sys.path.insert(0, '/data/data/com.termux/files/home/storage/shared/github/training/math/codes/CoordGeo')        #path to my scripts\n",
    "\n",
    "import numpy as np\n",
    "import matplotlib.pyplot as plt\n",
    "from numpy import linalg as LA\n",
    "#import matplotlib\n",
    "\n",
    "#local imports\n",
    "from line.funcs import *\n",
    "from triangle.funcs import *\n",
    "from conics.funcs import circ_gen\n",
    "\n",
    "#if using termux\n",
    "import subprocess\n",
    "import shlex\n",
    "#end if\n",
    "\n",
    "#Parabola parameters\n",
    "A = 16\n",
    "B = 8\n",
    "C = 1\n",
    "d = -74\n",
    "E = -78\n",
    "f = 212\n",
    "F = np.array([2,3]).reshape(2,1)\n",
    "n = np.array([1,-4]).reshape(2,1)\n",
    "c = -3\n",
    "e = 1\n",
    "\n",
    "V = np.array(([A,B/2],[B/2,C]))\n",
    "u = 1/2*np.array(([d,E])).reshape(2,1)\n",
    "\n",
    "#Eigenvalues and eigenvectors\n",
    "D_vec,P = LA.eig(V)\n",
    "lam2 = D_vec[0]\n",
    "lam1 = D_vec[1]\n",
    "p1 = P[:,1].reshape(2,1)\n",
    "p2 = P[:,0].reshape(2,1)\n",
    "D = np.diag(D_vec)\n",
    "\n",
    "#Output parameters\n",
    "n = p1*np.sqrt(lam2) #Directrix normal vector\n",
    "e = np.sqrt(1 - lam1/lam2)#Eccentricity\n",
    "if(e == 1):\n",
    "    c = (LA.norm(u)**2-lam2*f)/(2*e**2*u.T@n)\n",
    "else:\n",
    "    c1 = (e*(u.T@n)+np.sqrt(e**2*(u.T@n)**2+lam2*(1-e**2)*(LA.norm(u)**2-lam2*f)))/(lam2*e*(e**2-1))\n",
    "    c2 = (e*(u.T@n)-np.sqrt(e**2*(u.T@n)**2+lam2*(1-e**2)*(LA.norm(u)**2-lam2*f)))/(lam2*e*(e**2-1))\n",
    "\n",
    "#print(D)\n",
    "\n",
    "print(c,u,lam2)\n",
    "\n",
    "#F = (c*e**2*n-u)/lam2#Focus\n",
    "#F = \n",
    "\n",
    "#print(F)\n",
    "\n",
    "#print(D)\n",
    "#V = LA.norm(n)**2*np.eye(2)-e**2*n@n.T\n",
    "# tempV = lam2*np.eye(2)-V\n",
    "# tempp1 = p1@p1.T\n",
    "#print(tempV[0,0]/tempp1[0,0],p1*np.sqrt(lam2))\n",
    "# print((n@n.T)@n)\n",
    "# print(LA.norm(n)**2*n)\n",
    "\n",
    "#print(n, lam1*P[:,1])\n",
    "#print(D_vec[0]*P)\n",
    "#print(P@P.T)\n",
    "#print(V@P[:,1].reshape(2,1),V@n)\n",
    "#print(n/lam1,P[:,1])\n",
    "#print(n,lam1*P[:,1])\n",
    "# print (P@D@P.T)\n",
    "# print(P[1,0]/P[1,1])\n",
    "\n"
   ]
  },
  {
   "cell_type": "markdown",
   "metadata": {},
   "source": []
  }
 ],
 "metadata": {
  "kernelspec": {
   "display_name": "Python 3.9.6 64-bit ('arch')",
   "name": "python396jvsc74a57bd068b71d0ebcb79125c7a4c948fbfef704ef3f1b88482a81dec969d341693dabf4"
  },
  "language_info": {
   "codemirror_mode": {
    "name": "ipython",
    "version": 3
   },
   "file_extension": ".py",
   "mimetype": "text/x-python",
   "name": "python",
   "nbconvert_exporter": "python",
   "pygments_lexer": "ipython3",
   "version": "3.9.6"
  },
  "metadata": {
   "interpreter": {
    "hash": "68b71d0ebcb79125c7a4c948fbfef704ef3f1b88482a81dec969d341693dabf4"
   }
  },
  "orig_nbformat": 3
 },
 "nbformat": 4,
 "nbformat_minor": 5
}